{
 "cells": [
  {
   "cell_type": "code",
   "execution_count": 598,
   "id": "bf66d537-ca0d-4404-82e5-765fc718982d",
   "metadata": {},
   "outputs": [],
   "source": [
    "import pandas as pd"
   ]
  },
  {
   "cell_type": "code",
   "execution_count": 599,
   "id": "423fdff9-a4aa-4131-9207-86774b6da0c8",
   "metadata": {},
   "outputs": [],
   "source": [
    "# === Load Data ===\n",
    "path = \"../data/\"\n",
    "races = pd.read_csv(path + \"races.csv\")\n",
    "results = pd.read_csv(path + \"results.csv\") \n",
    "drivers = pd.read_csv(path + \"drivers.csv\") \n",
    "constructors = pd.read_csv(path + \"constructors.csv\") \n",
    "circuits = pd.read_csv(path + \"circuits.csv\")\n",
    "status = pd.read_csv(path + \"status.csv\")"
   ]
  },
  {
   "cell_type": "markdown",
   "id": "1f295b37-5d25-492d-aded-7e7ece028609",
   "metadata": {},
   "source": [
    "**Combining Data Stage**  \n",
    "Main dataset used will be results. Other relevent data will be merged into results dataset"
   ]
  },
  {
   "cell_type": "code",
   "execution_count": 601,
   "id": "db802f6e-cdd6-4aec-92e8-6cb266ba66a2",
   "metadata": {
    "scrolled": true
   },
   "outputs": [],
   "source": [
    "#merge drivers and results\n",
    "\n",
    "#Keep only relevent information\n",
    "drivers = drivers[[\"driverId\", \"forename\", \"surname\", \"dob\"]].copy()\n",
    "\n",
    "#Combine sirname and forename\n",
    "drivers[\"driver_name\"] = drivers[\"forename\"] + \" \" + drivers[\"surname\"]\n",
    "drivers = drivers.drop(columns=[\"forename\", \"surname\"])\n",
    "\n",
    "#Merge with results\n",
    "results = results.merge(drivers, on=\"driverId\", how=\"left\")\n",
    "\n",
    "#drop driverId (replaced by driver_name)\n",
    "results = results.drop(columns=[\"driverId\"])\n",
    "\n",
    "#Change 'time' to 'finish_time' to avoid confusion\n",
    "results = results.rename(columns={\"time\": \"finish_time\"})"
   ]
  },
  {
   "cell_type": "code",
   "execution_count": 602,
   "id": "8f42277f-87d5-42b4-9d87-8b88203410ae",
   "metadata": {},
   "outputs": [],
   "source": [
    "#merge races\n",
    "races.head()\n",
    "races.columns\n",
    "\n",
    "#Keep only relevent information\n",
    "races = races[[\"raceId\", \"year\", \"round\", \"circuitId\", \"name\", \"date\", \"time\"]].copy()\n",
    "\n",
    "#Merge with results\n",
    "results = results.merge(races, on=\"raceId\", how=\"left\")\n",
    "\n",
    "#drop raceId \n",
    "results = results.drop(columns=[\"raceId\"])\n",
    "\n",
    "#Computer drivers age at race using data and DOB, then  drop DOB \n",
    "results[\"date\"] = pd.to_datetime(results[\"date\"])\n",
    "results[\"dob\"] = pd.to_datetime(results[\"dob\"])\n",
    "results[\"age_at_race\"] = (results[\"date\"] - results[\"dob\"]).dt.days / 365.25\n",
    "results = results.drop(columns=[\"dob\"])\n",
    "\n",
    "#Change 'name' to 'race_name' to avoid confusion\n",
    "results = results.rename(columns={\"name\": \"race_name\"})\n",
    "#Change 'time' to 'finish_time' to avoid confusion\n",
    "results = results.rename(columns={\"time\": \"race_start_time\"})"
   ]
  },
  {
   "cell_type": "code",
   "execution_count": 603,
   "id": "164171ef-a042-4779-b5df-c1aecfa8ac7b",
   "metadata": {},
   "outputs": [],
   "source": [
    "#merge constuctors\n",
    "constructors.head()\n",
    "constructors.columns\n",
    "\n",
    "#Keep only relevent information\n",
    "constructors = constructors[[\"constructorId\", \"name\"]].copy()\n",
    "\n",
    "#Merge with results\n",
    "results = results.merge(constructors, on=\"constructorId\", how=\"left\")\n",
    "\n",
    "#drop constructorId \n",
    "results = results.drop(columns=[\"constructorId\"])\n",
    "\n",
    "#Change 'name' to 'constructor' to avoid confusion\n",
    "results = results.rename(columns={\"name\": \"constructor_name\"})"
   ]
  },
  {
   "cell_type": "code",
   "execution_count": 604,
   "id": "b7daf245-0419-4134-a288-8a60abfc01bf",
   "metadata": {},
   "outputs": [],
   "source": [
    "#merge circuits \n",
    "\n",
    "#Keep only relevent information\n",
    "circuits = circuits[[\"circuitId\", \"name\"]].copy()\n",
    "\n",
    "#Merge with results\n",
    "results = results.merge(circuits, on=\"circuitId\", how=\"left\")\n",
    "\n",
    "#drop circuitId \n",
    "results = results.drop(columns=[\"circuitId\"])\n",
    "\n",
    "#Change 'name' to 'circuit' to avoid confusion\n",
    "results = results.rename(columns={\"name\": \"circuit\"})"
   ]
  },
  {
   "cell_type": "code",
   "execution_count": 605,
   "id": "f23ebd9a-dda7-4d55-a726-2b40bca74868",
   "metadata": {},
   "outputs": [
    {
     "data": {
      "text/plain": [
       "Index(['resultId', 'number', 'grid', 'position', 'positionText',\n",
       "       'positionOrder', 'points', 'laps', 'finish_time', 'milliseconds',\n",
       "       'fastestLap', 'rank', 'fastestLapTime', 'fastestLapSpeed',\n",
       "       'driver_name', 'year', 'round', 'race_name', 'date', 'race_start_time',\n",
       "       'age_at_race', 'constructor_name', 'circuit', 'status'],\n",
       "      dtype='object')"
      ]
     },
     "execution_count": 605,
     "metadata": {},
     "output_type": "execute_result"
    }
   ],
   "source": [
    "#merge status \n",
    "\n",
    "results = results.merge(status, on=\"statusId\", how=\"left\")\n",
    "\n",
    "#drop statusId \n",
    "results = results.drop(columns=[\"statusId\"])\n",
    "results.head()\n",
    "results.columns"
   ]
  },
  {
   "cell_type": "code",
   "execution_count": 606,
   "id": "220b67a7-0387-4b9f-bb21-2189a1c9e6aa",
   "metadata": {},
   "outputs": [],
   "source": [
    "#drop irrelevent information\n",
    "results = results.drop(columns=[\"number\", \"position\", \"positionText\", \"finish_time\", \"rank\", \"fastestLapSpeed\", \"points\", \"laps\", \"milliseconds\",\"fastestLap\", \"fastestLapTime\", \"resultId\"])\n",
    "\n",
    "# reorder a bit for readability\n",
    "results = results[\n",
    "    [\n",
    "        \"year\", \"round\", \"race_name\", \"circuit\", \"driver_name\", \"constructor_name\", \"grid\", \"positionOrder\", \n",
    "        \"date\", \"race_start_time\", \"age_at_race\",\"status\"\n",
    "    ]\n",
    "]\n",
    "\n"
   ]
  },
  {
   "cell_type": "markdown",
   "id": "2a8a58fa-781e-4574-9072-b6de0cac7474",
   "metadata": {},
   "source": [
    "**Clean data for machine learning**  \n",
    "Ensure none of the columns are of type object "
   ]
  },
  {
   "cell_type": "code",
   "execution_count": 608,
   "id": "9d0b1d4d-f563-425f-b403-26f810bc3b88",
   "metadata": {},
   "outputs": [],
   "source": [
    "#drop rows where position order is missing\n",
    "df = results.dropna(subset=[\"positionOrder\"]).copy()"
   ]
  },
  {
   "cell_type": "code",
   "execution_count": 619,
   "id": "ec36b579-a2d7-4cef-804a-0f98f90632ce",
   "metadata": {},
   "outputs": [],
   "source": [
    "# make sure date is a datetime object\n",
    "df[\"date\"] = pd.to_datetime(df[\"date\"], errors=\"coerce\")\n",
    "\n",
    "# extract numeric time features\n",
    "df[\"race_month\"] = df[\"date\"].dt.month\n",
    "df[\"race_dayofweek\"] = df[\"date\"].dt.dayofweek  # Monday=0, Sunday=6\n",
    "\n",
    "# convert race_start_time (HH:MM:SS) to hour if available\n",
    "def extract_hour(t):\n",
    "    try:\n",
    "        return pd.to_datetime(t, format=\"%H:%M:%S\", errors=\"coerce\").hour\n",
    "    except Exception:\n",
    "        return None\n",
    "\n",
    "df[\"race_start_hour\"] = df[\"race_start_time\"].apply(extract_hour)\n",
    "\n",
    "df = df.drop(columns=[\"date\", \"race_start_time\"])\n",
    "\n"
   ]
  },
  {
   "cell_type": "markdown",
   "id": "ba9d8152-489f-4c0a-a2b3-e1af2e15ba14",
   "metadata": {},
   "source": [
    "**Split Data**\n",
    "Years 1950 - 2025 will be used to train and 2021–2025 will be used to test "
   ]
  },
  {
   "cell_type": "code",
   "execution_count": 622,
   "id": "1d993387-17e8-439a-a098-963751914a96",
   "metadata": {},
   "outputs": [
    {
     "name": "stdout",
     "output_type": "stream",
     "text": [
      "Train shape: (24960, 13)\n",
      "Test shape: (2158, 13)\n",
      "Train seasons: 1950 - 2020\n",
      "Test seasons: 2021 - 2025\n"
     ]
    }
   ],
   "source": [
    "#sort by year \n",
    "df[\"year\"].value_counts().sort_index()\n",
    "\n",
    "train_df = df[df[\"year\"] <= 2020].copy()\n",
    "test_df  = df[df[\"year\"] > 2020].copy()\n",
    "\n",
    "print(\"Train shape:\", train_df.shape)\n",
    "print(\"Test shape:\", test_df.shape)\n",
    "print(\"Train seasons:\", train_df[\"year\"].min(), \"-\", train_df[\"year\"].max())\n",
    "print(\"Test seasons:\", test_df[\"year\"].min(), \"-\", test_df[\"year\"].max())\n"
   ]
  },
  {
   "cell_type": "markdown",
   "id": "9e14fe82-85c2-437a-962b-a5cfbec58818",
   "metadata": {},
   "source": [
    "**Encode catigorical Columns as numeric values**"
   ]
  },
  {
   "cell_type": "code",
   "execution_count": 625,
   "id": "22e23d49-5226-4cca-9a97-f13aa3db3f80",
   "metadata": {},
   "outputs": [],
   "source": [
    "categorical_cols = [\"race_name\", \"circuit\", \"driver_name\", \"constructor_name\", \"status\"]\n",
    "\n",
    "from sklearn.preprocessing import LabelEncoder\n",
    "\n",
    "train_df_encoded = train_df.copy()\n",
    "test_df_encoded = test_df.copy()\n",
    "encoders = {}\n",
    "\n",
    "for col in categorical_cols:\n",
    "    le = LabelEncoder()\n",
    "    train_df_encoded[col] = le.fit_transform(train_df_encoded[col].astype(str))\n",
    "    encoders[col] = le\n",
    "\n",
    "    # Handle unseen labels in test set\n",
    "    test_df_encoded[col] = test_df_encoded[col].apply(\n",
    "        lambda x: x if x in le.classes_ else \"Unknown\"\n",
    "    )\n",
    "\n",
    "    # Add \"Unknown\" to encoder classes\n",
    "    le_classes = np.append(le.classes_, \"Unknown\")\n",
    "    le.classes_ = le_classes\n",
    "\n",
    "    test_df_encoded[col] = le.transform(test_df_encoded[col].astype(str))"
   ]
  },
  {
   "cell_type": "markdown",
   "id": "8784669b-a9f0-4209-b346-3d12ce0a3e5a",
   "metadata": {},
   "source": [
    "**Create Model**"
   ]
  },
  {
   "cell_type": "code",
   "execution_count": 632,
   "id": "4098634e-4034-4a2b-83c7-712065169e0f",
   "metadata": {},
   "outputs": [
    {
     "name": "stdout",
     "output_type": "stream",
     "text": [
      "Mean Absolute Error: 2.2251668211306765\n",
      "R^2 Score: 0.7488740274640603\n"
     ]
    }
   ],
   "source": [
    "#set X and y values from training data \n",
    "X_train = train_df_encoded.drop(\"positionOrder\", axis=1)\n",
    "y_train = train_df_encoded[\"positionOrder\"]\n",
    "\n",
    "#set X and y values from testing data \n",
    "X_test = test_df_encoded.drop(\"positionOrder\", axis=1)\n",
    "y_test = test_df_encoded[\"positionOrder\"]\n",
    "\n",
    "from sklearn.ensemble import RandomForestRegressor\n",
    "\n",
    "#create model\n",
    "model = RandomForestRegressor(\n",
    "    n_estimators=100,         # number of trees in the forest\n",
    "    max_depth=None,           # how deep each tree can go (None = unlimited until leaf size)\n",
    "    min_samples_leaf=1,       # minimum number of samples required to be at a leaf node\n",
    "    random_state=42,          # seed for reproducibility\n",
    "    n_jobs=-1                 # use all CPU cores\n",
    ")\n",
    "\n",
    "model.fit(X_train, y_train)\n",
    "\n",
    "y_pred = model.predict(X_test)\n",
    "\n",
    "from sklearn.metrics import mean_absolute_error, r2_score\n",
    "\n",
    "mae = mean_absolute_error(y_test, y_pred)\n",
    "r2 = r2_score(y_test, y_pred)\n",
    "\n",
    "print(\"Mean Absolute Error:\", mae)\n",
    "print(\"R^2 Score:\", r2)\n"
   ]
  },
  {
   "cell_type": "code",
   "execution_count": null,
   "id": "2ec5a423-d00a-4c0c-8996-140614c82ab9",
   "metadata": {},
   "outputs": [],
   "source": []
  }
 ],
 "metadata": {
  "kernelspec": {
   "display_name": "Python 3 (ipykernel)",
   "language": "python",
   "name": "python3"
  },
  "language_info": {
   "codemirror_mode": {
    "name": "ipython",
    "version": 3
   },
   "file_extension": ".py",
   "mimetype": "text/x-python",
   "name": "python",
   "nbconvert_exporter": "python",
   "pygments_lexer": "ipython3",
   "version": "3.12.4"
  }
 },
 "nbformat": 4,
 "nbformat_minor": 5
}
